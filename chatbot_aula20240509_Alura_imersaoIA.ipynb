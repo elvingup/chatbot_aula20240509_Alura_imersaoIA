{
  "nbformat": 4,
  "nbformat_minor": 0,
  "metadata": {
    "colab": {
      "provenance": [],
      "authorship_tag": "ABX9TyOHKywwP1wI/dvK3AkxZxQo",
      "include_colab_link": true
    },
    "kernelspec": {
      "name": "python3",
      "display_name": "Python 3"
    },
    "language_info": {
      "name": "python"
    }
  },
  "cells": [
    {
      "cell_type": "markdown",
      "metadata": {
        "id": "view-in-github",
        "colab_type": "text"
      },
      "source": [
        "<a href=\"https://colab.research.google.com/github/elvingup/chatbot_aula20240509_Alura_imersaoIA/blob/main/chatbot_aula20240509_Alura_imersaoIA.ipynb\" target=\"_parent\"><img src=\"https://colab.research.google.com/assets/colab-badge.svg\" alt=\"Open In Colab\"/></a>"
      ]
    },
    {
      "cell_type": "markdown",
      "source": [
        "Instalação do SDK do Google"
      ],
      "metadata": {
        "id": "z3lElcZhinBh"
      }
    },
    {
      "cell_type": "code",
      "execution_count": 1,
      "metadata": {
        "id": "3-PIkabKikHf"
      },
      "outputs": [],
      "source": [
        "!pip install -q -U google-generativeai"
      ]
    },
    {
      "cell_type": "code",
      "source": [
        "# Import the Python SDK\n",
        "import google.generativeai as genai\n",
        "\n",
        "# Used to securely store your API key\n",
        "from google.colab import userdata\n",
        "\n",
        "GOOGLE_API_KEY=userdata.get('GOOGLE_API_KEY')\n",
        "genai.configure(api_key=GOOGLE_API_KEY)"
      ],
      "metadata": {
        "id": "M2RjfhubjAGo"
      },
      "execution_count": 2,
      "outputs": []
    },
    {
      "cell_type": "markdown",
      "source": [
        "Listar os modelos disponiveis"
      ],
      "metadata": {
        "id": "B263EMYmjJ0-"
      }
    },
    {
      "cell_type": "code",
      "source": [
        "for m in genai.list_models():\n",
        "  if 'generateContent' in m.supported_generation_methods:\n",
        "    print(m.name)"
      ],
      "metadata": {
        "colab": {
          "base_uri": "https://localhost:8080/",
          "height": 139
        },
        "id": "Pzbt7IILjIvr",
        "outputId": "44c82750-c92b-48f1-874c-e3bb1189af18"
      },
      "execution_count": 3,
      "outputs": [
        {
          "output_type": "stream",
          "name": "stdout",
          "text": [
            "models/gemini-1.0-pro\n",
            "models/gemini-1.0-pro-001\n",
            "models/gemini-1.0-pro-latest\n",
            "models/gemini-1.0-pro-vision-latest\n",
            "models/gemini-1.5-pro-latest\n",
            "models/gemini-pro\n",
            "models/gemini-pro-vision\n"
          ]
        }
      ]
    },
    {
      "cell_type": "markdown",
      "source": [
        "Configuração da geração da resposta\n",
        "quantas respostas disponíveis no grafo\n",
        "grau de divergencia em relação ao input"
      ],
      "metadata": {
        "id": "VeaEbaHaoJ3w"
      }
    },
    {
      "cell_type": "code",
      "source": [
        "generation_config = {\n",
        "  \"candidate_count\": 1,\n",
        "  \"temperature\": 0.5,\n",
        "}"
      ],
      "metadata": {
        "id": "zq_7b0d0li_m"
      },
      "execution_count": 4,
      "outputs": []
    },
    {
      "cell_type": "markdown",
      "source": [
        "Filtros de segurança\n",
        "os pares são padronizados\n",
        "os valores possíveis são: BLOCK_NONE, BLOCK_FEW, BLOCK_SOME e BLOCK_MOST"
      ],
      "metadata": {
        "id": "u5xKKiBon2sh"
      }
    },
    {
      "cell_type": "code",
      "source": [
        "filtros={\n",
        "    'HATE': 'BLOCK_NONE',\n",
        "    'HARASSMENT': 'BLOCK_NONE',\n",
        "    'SEXUAL' : 'BLOCK_NONE',\n",
        "    'DANGEROUS' : 'BLOCK_NONE'\n",
        "    }"
      ],
      "metadata": {
        "id": "HfuYy-0dmgPB"
      },
      "execution_count": 10,
      "outputs": []
    },
    {
      "cell_type": "markdown",
      "source": [
        "Inicializando o modelo\n",
        "Parâmetros informados acima\n",
        "model_name\n",
        "generation_config\n",
        "safety_settings"
      ],
      "metadata": {
        "id": "BsrxuOyYnv-V"
      }
    },
    {
      "cell_type": "code",
      "source": [
        "model = genai.GenerativeModel(model_name='gemini-1.0-pro',\n",
        "                                  generation_config=generation_config,\n",
        "                                  safety_settings=filtros,)"
      ],
      "metadata": {
        "id": "Y5wwmMEnn0po"
      },
      "execution_count": 11,
      "outputs": []
    },
    {
      "cell_type": "markdown",
      "source": [
        "Teste da resposta"
      ],
      "metadata": {
        "id": "D1vA617Aq_os"
      }
    },
    {
      "cell_type": "code",
      "source": [
        "response = model.generate_content(\"Que empresa criou o modelo de IA Gemini?\")\n",
        "response.text"
      ],
      "metadata": {
        "colab": {
          "base_uri": "https://localhost:8080/",
          "height": 35
        },
        "id": "SvfS2OeAqj1L",
        "outputId": "6a3b81b4-f8e4-4edc-9cde-4b1c1c82a623"
      },
      "execution_count": 12,
      "outputs": [
        {
          "output_type": "execute_result",
          "data": {
            "text/plain": [
              "'Google'"
            ],
            "application/vnd.google.colaboratory.intrinsic+json": {
              "type": "string"
            }
          },
          "metadata": {},
          "execution_count": 12
        }
      ]
    },
    {
      "cell_type": "markdown",
      "source": [
        "# **CHAT BOT**"
      ],
      "metadata": {
        "id": "j1RHMo56rDAT"
      }
    },
    {
      "cell_type": "code",
      "source": [
        "chat = model.start_chat(history=[])\n",
        "\n",
        "prompt = input('Esperando prompt: ')\n",
        "\n",
        "while prompt != \"fim\":\n",
        "  response = chat.send_message(prompt)\n",
        "  print(\"Resposta:\", response.text, '\\n\\n')\n",
        "  prompt = input('Esperando prompt: ')"
      ],
      "metadata": {
        "colab": {
          "base_uri": "https://localhost:8080/",
          "height": 1000
        },
        "id": "oDtV9qavrIxz",
        "outputId": "faffeabc-fc41-48c2-dbdc-d217b715632e"
      },
      "execution_count": 13,
      "outputs": [
        {
          "name": "stdout",
          "output_type": "stream",
          "text": [
            "Esperando prompt: Inicio da historia do Brasil\n",
            "Resposta: **Período Pré-Colonial (c. 10.000 a.C. - 1500 d.C.)**\n",
            "\n",
            "* Povos indígenas habitavam o território brasileiro há milhares de anos, com culturas e línguas diversas.\n",
            "* Os povos Tupi-Guarani eram os mais numerosos, ocupando grande parte da costa e do interior.\n",
            "\n",
            "**Descoberta e Colonização Europeia (1500-1822)**\n",
            "\n",
            "* **1500:** O navegador português Pedro Álvares Cabral avista a costa brasileira e reivindica o território para Portugal.\n",
            "* **1530:** Início da colonização portuguesa com a fundação da vila de São Vicente.\n",
            "* **1549:** Criação do sistema de capitanias hereditárias, dividindo o território em 15 faixas de terra concedidas a donatários.\n",
            "* **1565:** Fundação da cidade do Rio de Janeiro.\n",
            "* **Séculos XVI-XVIII:** Exploração do pau-brasil, cana-de-açúcar e ouro.\n",
            "* **1763:** Expulsão dos jesuítas do Brasil.\n",
            "* **1789:** Inconfidência Mineira, uma revolta contra o domínio português.\n",
            "\n",
            "**Independência e Império (1822-1889)**\n",
            "\n",
            "* **1822:** Dom Pedro I proclama a independência do Brasil.\n",
            "* **1824:** Aprovação da primeira Constituição brasileira.\n",
            "* **1825:** Reconhecimento da independência do Brasil por Portugal.\n",
            "* **1831:** Abdicação de Dom Pedro I e regência de seu filho, Dom Pedro II.\n",
            "* **1840-1870:** Período de estabilidade política e econômica conhecido como Segundo Reinado.\n",
            "* **1888:** Abolição da escravatura.\n",
            "\n",
            "**República e Século XX (1889-Presente)**\n",
            "\n",
            "* **1889:** Proclamação da República.\n",
            "* **1891:** Aprovação da primeira Constituição republicana.\n",
            "* **1930:** Revolução de 1930, que levou Getúlio Vargas ao poder.\n",
            "* **1937:** Estabelecimento do Estado Novo, uma ditadura sob Vargas.\n",
            "* **1945:** Fim do Estado Novo.\n",
            "* **1964-1985:** Ditadura militar.\n",
            "* **1985:** Retorno à democracia.\n",
            "* **1988:** Aprovação da atual Constituição brasileira. \n",
            "\n",
            "\n",
            "Esperando prompt: o que aconteceu depois da aprovação d constituição\n",
            "Resposta: Após a aprovação da atual Constituição brasileira em 1988, ocorreram vários eventos importantes na história do país:\n",
            "\n",
            "* **1989:** Eleição de Fernando Collor de Mello como o primeiro presidente civil após o fim da ditadura militar.\n",
            "* **1992:** Impeachment de Collor de Mello por corrupção.\n",
            "* **1994:** Plano Real, um programa econômico que estabilizou a economia e controlou a inflação.\n",
            "* **1995-2002:** Presidência de Fernando Henrique Cardoso, que implementou reformas econômicas e sociais.\n",
            "* **2003-2010:** Presidência de Luiz Inácio Lula da Silva, que expandiu programas sociais e fortaleceu a economia.\n",
            "* **2011-2016:** Presidência de Dilma Rousseff, que enfrentou uma crise econômica e foi impeachment em 2016.\n",
            "* **2016-2018:** Presidência de Michel Temer, que implementou reformas econômicas controversas.\n",
            "* **2019-Presente:** Presidência de Jair Bolsonaro, marcada por políticas conservadoras e controvérsias ambientais.\n",
            "\n",
            "Outros eventos importantes incluem:\n",
            "\n",
            "* A eleição da primeira mulher presidente do Brasil, Dilma Rousseff, em 2010.\n",
            "* Os Jogos Olímpicos de Verão de 2016, realizados no Rio de Janeiro.\n",
            "* A pandemia de COVID-19, que atingiu o Brasil com força a partir de 2020.\n",
            "\n",
            "A Constituição de 1988 estabeleceu um sistema democrático e garantiu direitos e liberdades fundamentais para os cidadãos brasileiros. No entanto, o país ainda enfrenta desafios como corrupção, desigualdade social e violência. \n",
            "\n",
            "\n",
            "Esperando prompt: fim\n"
          ]
        }
      ]
    },
    {
      "cell_type": "markdown",
      "source": [
        "# Melhorando a visualização\n",
        "Código disponível em https://ai.google.dev/tutorials/python_quickstart#import_packages"
      ],
      "metadata": {
        "id": "Rz0HJNd3uxBg"
      }
    },
    {
      "cell_type": "code",
      "source": [
        "\n",
        "import textwrap\n",
        "from IPython.display import display\n",
        "from IPython.display import Markdown\n",
        "\n",
        "def to_markdown(text):\n",
        "  text = text.replace('•', '  *')\n",
        "  return Markdown(textwrap.indent(text, '> ', predicate=lambda _: True))\n",
        "\n",
        "#Imprimindo o histórico\n",
        "for message in chat.history:\n",
        "  display(to_markdown(f'**{message.role}**: {message.parts[0].text}'))\n",
        "  print('-------------------------------------------')"
      ],
      "metadata": {
        "colab": {
          "base_uri": "https://localhost:8080/",
          "height": 1000
        },
        "id": "ymLggov1uxne",
        "outputId": "7fca2921-0c71-48bc-d6f8-513f4fa77ce9"
      },
      "execution_count": 14,
      "outputs": [
        {
          "output_type": "display_data",
          "data": {
            "text/plain": [
              "<IPython.core.display.Markdown object>"
            ],
            "text/markdown": "> **user**: Inicio da historia do Brasil"
          },
          "metadata": {}
        },
        {
          "output_type": "stream",
          "name": "stdout",
          "text": [
            "-------------------------------------------\n"
          ]
        },
        {
          "output_type": "display_data",
          "data": {
            "text/plain": [
              "<IPython.core.display.Markdown object>"
            ],
            "text/markdown": "> **model**: **Período Pré-Colonial (c. 10.000 a.C. - 1500 d.C.)**\n> \n> * Povos indígenas habitavam o território brasileiro há milhares de anos, com culturas e línguas diversas.\n> * Os povos Tupi-Guarani eram os mais numerosos, ocupando grande parte da costa e do interior.\n> \n> **Descoberta e Colonização Europeia (1500-1822)**\n> \n> * **1500:** O navegador português Pedro Álvares Cabral avista a costa brasileira e reivindica o território para Portugal.\n> * **1530:** Início da colonização portuguesa com a fundação da vila de São Vicente.\n> * **1549:** Criação do sistema de capitanias hereditárias, dividindo o território em 15 faixas de terra concedidas a donatários.\n> * **1565:** Fundação da cidade do Rio de Janeiro.\n> * **Séculos XVI-XVIII:** Exploração do pau-brasil, cana-de-açúcar e ouro.\n> * **1763:** Expulsão dos jesuítas do Brasil.\n> * **1789:** Inconfidência Mineira, uma revolta contra o domínio português.\n> \n> **Independência e Império (1822-1889)**\n> \n> * **1822:** Dom Pedro I proclama a independência do Brasil.\n> * **1824:** Aprovação da primeira Constituição brasileira.\n> * **1825:** Reconhecimento da independência do Brasil por Portugal.\n> * **1831:** Abdicação de Dom Pedro I e regência de seu filho, Dom Pedro II.\n> * **1840-1870:** Período de estabilidade política e econômica conhecido como Segundo Reinado.\n> * **1888:** Abolição da escravatura.\n> \n> **República e Século XX (1889-Presente)**\n> \n> * **1889:** Proclamação da República.\n> * **1891:** Aprovação da primeira Constituição republicana.\n> * **1930:** Revolução de 1930, que levou Getúlio Vargas ao poder.\n> * **1937:** Estabelecimento do Estado Novo, uma ditadura sob Vargas.\n> * **1945:** Fim do Estado Novo.\n> * **1964-1985:** Ditadura militar.\n> * **1985:** Retorno à democracia.\n> * **1988:** Aprovação da atual Constituição brasileira."
          },
          "metadata": {}
        },
        {
          "output_type": "stream",
          "name": "stdout",
          "text": [
            "-------------------------------------------\n"
          ]
        },
        {
          "output_type": "display_data",
          "data": {
            "text/plain": [
              "<IPython.core.display.Markdown object>"
            ],
            "text/markdown": "> **user**: o que aconteceu depois da aprovação d constituição"
          },
          "metadata": {}
        },
        {
          "output_type": "stream",
          "name": "stdout",
          "text": [
            "-------------------------------------------\n"
          ]
        },
        {
          "output_type": "display_data",
          "data": {
            "text/plain": [
              "<IPython.core.display.Markdown object>"
            ],
            "text/markdown": "> **model**: Após a aprovação da atual Constituição brasileira em 1988, ocorreram vários eventos importantes na história do país:\n> \n> * **1989:** Eleição de Fernando Collor de Mello como o primeiro presidente civil após o fim da ditadura militar.\n> * **1992:** Impeachment de Collor de Mello por corrupção.\n> * **1994:** Plano Real, um programa econômico que estabilizou a economia e controlou a inflação.\n> * **1995-2002:** Presidência de Fernando Henrique Cardoso, que implementou reformas econômicas e sociais.\n> * **2003-2010:** Presidência de Luiz Inácio Lula da Silva, que expandiu programas sociais e fortaleceu a economia.\n> * **2011-2016:** Presidência de Dilma Rousseff, que enfrentou uma crise econômica e foi impeachment em 2016.\n> * **2016-2018:** Presidência de Michel Temer, que implementou reformas econômicas controversas.\n> * **2019-Presente:** Presidência de Jair Bolsonaro, marcada por políticas conservadoras e controvérsias ambientais.\n> \n> Outros eventos importantes incluem:\n> \n> * A eleição da primeira mulher presidente do Brasil, Dilma Rousseff, em 2010.\n> * Os Jogos Olímpicos de Verão de 2016, realizados no Rio de Janeiro.\n> * A pandemia de COVID-19, que atingiu o Brasil com força a partir de 2020.\n> \n> A Constituição de 1988 estabeleceu um sistema democrático e garantiu direitos e liberdades fundamentais para os cidadãos brasileiros. No entanto, o país ainda enfrenta desafios como corrupção, desigualdade social e violência."
          },
          "metadata": {}
        },
        {
          "output_type": "stream",
          "name": "stdout",
          "text": [
            "-------------------------------------------\n"
          ]
        }
      ]
    }
  ]
}